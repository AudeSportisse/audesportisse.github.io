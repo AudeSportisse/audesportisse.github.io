{
 "cells": [
  {
   "cell_type": "markdown",
   "id": "front-point",
   "metadata": {},
   "source": [
    "<span style=\"font-size:3em\"> CORRECTION: Model-based statistical learning</span> \n",
    "\n",
    "\n",
    "*Charles Bouveyron, Pierre-Alexandre Mattei and Aude Sportisse*"
   ]
  },
  {
   "cell_type": "markdown",
   "id": "medieval-composite",
   "metadata": {},
   "source": [
    "# Exercise 1: Gaussian mixtures for MCAR data (20pt)"
   ]
  },
  {
   "cell_type": "markdown",
   "id": "anonymous-somerset",
   "metadata": {},
   "source": [
    "Let $X \\in \\mathbb{R}^{n \\times d}$ a dataset which contains missing values. The missing-data pattern $M \\in \\{0,1\\}^{n\\times d}$ is a binary matrix which indicates where are the missing values in $X$: $m_{ij}=1$ is $x_{ij}$ is missing, $m_{ij}=0$ otherwise. Let us denote $x_i^{\\mathrm{obs}}$ (resp. $x_i^{\\mathrm{mis}}$) the values of the observed variable(s) (resp. the values of the missing variable(s)) for the individual $i$. \n",
    "\n",
    "The aim of model-based clustering is to estimate an (unknown) partition of the data $X$ in $K$ groups. This partition is denoted as $Z=(z_1|\\dots|z_n)^T \\in \\{0,1\\}^{n\\times K}$ with $z_i=(z_{i1},\\dots,z_{iK})^T \\in \\{0,1\\}^{K}$ and where $z_{ik}=1$ if $x_i$ belongs to the class $k$, $z_{ik}=0$ otherwise. In this context, note that both $x_i^{\\textrm{mis}}$ and $z_i$ are missing. \n",
    "In the following, we assume that the data are missing completely at random (MCAR)."
   ]
  },
  {
   "cell_type": "markdown",
   "id": "completed-heading",
   "metadata": {},
   "source": [
    "## Introduction (~2pt)\n",
    "\n",
    "### Give the definition of the MCAR mechanism and what it implies for the statistical analysis."
   ]
  },
  {
   "cell_type": "markdown",
   "id": "decimal-gathering",
   "metadata": {},
   "source": [
    "**Answer**: "
   ]
  },
  {
   "cell_type": "markdown",
   "id": "returning-trade",
   "metadata": {},
   "source": [
    "We consider i.i.d. data $x_1,\\dots,x_n$ ($x_i \\in \\mathbb{R}^d$) genereted under a Gaussian mixture model with $K$ clusters and the following density: \n",
    "$$ p_\\theta(x)=\\sum_{k=1}^K \\pi_k f_k(x;\\mu_k,\\Sigma_k),$$\n",
    "\n",
    "with $\\theta=(\\pi_1,\\dots,\\pi_K,\\mu_1,\\dots,\\mu_K,\\Sigma_1,\\dots,\\Sigma_K)$ and $f_k$ is the Gaussian density function. $\\forall k \\in \\{1,\\dots,K\\}, \\mu_k\\in \\mathbb{R}^d$ and $\\Sigma_k \\in \\mathbb{R}^{d\\times d}$. "
   ]
  },
  {
   "cell_type": "markdown",
   "id": "qualified-interpretation",
   "metadata": {},
   "source": [
    "### Recall in which spaces the parameters live."
   ]
  },
  {
   "cell_type": "markdown",
   "id": "bibliographic-butter",
   "metadata": {},
   "source": [
    "**Answer**: "
   ]
  },
  {
   "cell_type": "markdown",
   "id": "lightweight-roman",
   "metadata": {},
   "source": [
    "The goal of this exercise is to implement an EM algorithm for a Gaussian mixture model when the data are missing (MCAR)."
   ]
  },
  {
   "cell_type": "markdown",
   "id": "requested-platform",
   "metadata": {},
   "source": [
    "The EM algorithm is an iterative algorithm that permits to maximize the likelihood function under missingness. Let be $\\theta^{[0]}$ the initialization point. The iteration $[r]$ of the algorithm consists in proceeding:\n",
    "\n",
    "* the **E-step**: computation of $Q(\\theta;\\theta^{[r-1]})=\\mathbb{E}[\\ell(\\theta;X,Z)|X^{\\mathrm{obs}};\\theta^{[r-1]}],$\n",
    "where $\\ell(\\theta;X,Z)$ is the complete log-likelihood.\n",
    "\n",
    "* the **M-step**: update of the parameters by maximizing the function $Q(\\theta;\\theta^{[r-1]})$:\n",
    "$$\\theta^{[r]}=\\mathrm{argmax}_{\\theta} Q(\\theta;\\theta^{[r-1]}).$$\n",
    "\n",
    "Note that\n",
    "\n",
    "$$\\ell(\\theta;X,Z)=\\log\\left(\\prod_{i=1}^n p_\\theta(x_i)\\right)= \\sum_{i=1}^n\\sum_{k=1}^K z_{ik} \\log(\\pi_k f_k(x_i;\\mu_k,\\Sigma_k))$$\n",
    "\n",
    "We can show that $$Q(\\theta;\\theta^{[r-1]}=\\sum_{i=1}^n\\sum_{k=1}^K t_{ik}(\\theta^{[r-1]}) [\\log(\\pi_k) + \\tau_x(\\mu_k,\\Sigma_k;x_i^\\mathrm{obs},\\theta^{[r-1]})]$$\n"
   ]
  },
  {
   "cell_type": "markdown",
   "id": "canadian-latin",
   "metadata": {},
   "source": [
    "## E-step (~6pt)\n",
    "\n",
    "### Explicit the terms $t_{ik}$ and $\\tau_x$ as conditional probability and conditional expectation. "
   ]
  },
  {
   "cell_type": "markdown",
   "id": "designing-genre",
   "metadata": {},
   "source": [
    "**Answer**: "
   ]
  },
  {
   "cell_type": "markdown",
   "id": "concrete-niger",
   "metadata": {},
   "source": [
    "**Correction**: $t_{ik}(\\theta^{[r-1]})=\\mathbb{P}(z_{ik}=1|x_i^{\\mathrm{obs}};\\theta^{[r-1]})$ and $\\tau_x(\\mu_k,\\Sigma_k;x_i^\\mathrm{obs},\\theta^{[r-1]})=\\mathbb{E}[\\log(f_k(x;\\mu_k,\\Sigma_k))|x_i^\\mathrm{obs},z_{ik}=1;\\theta^{[r-1]}]$"
   ]
  },
  {
   "cell_type": "markdown",
   "id": "bright-expression",
   "metadata": {},
   "source": [
    "### Write the term $t_{ik}$."
   ]
  },
  {
   "cell_type": "markdown",
   "id": "smart-fraud",
   "metadata": {},
   "source": [
    "**Answer**:"
   ]
  },
  {
   "cell_type": "markdown",
   "id": "acquired-shame",
   "metadata": {},
   "source": [
    "**Correction**: $$t_{ik}(\\theta^{[r-1]})=\\frac{f(z_{ik}=1,  x_i^{\\mathrm{obs}};\\theta^{[r-1]})}{\\sum_{h=1}^{K}f(z_{ih}=1,x_i^{\\mathrm{obs}};\\theta^{[r-1]})}=\\frac{\\pi_k^{[r-1]}f(x_i^{\\mathrm{obs}};\\mu_k^{[r-1]},\\Sigma_k^{[r-1]})}{\\sum_{h=1}^{K}\\pi_h^{[r-1]}f(x_i^{\\mathrm{obs}};\\mu_h^{[r-1]},\\Sigma_h^{[r-1]})}$$"
   ]
  },
  {
   "cell_type": "markdown",
   "id": "announced-ownership",
   "metadata": {},
   "source": [
    "To compute $\\tau_x$, we have to make explicit the distribution $f(x_i^\\mathrm{mis}|x_i^\\mathrm{obs},z_{ik}=1;\\theta^{[r-1]})$. \n",
    "\n",
    "Up to a reorganization of the variables, we have\n",
    "\n",
    "$$f(x_i|z_{ik}=1;\\theta^{[r-1]})=f\\left(\\begin{pmatrix} x_i^\\mathrm{obs} \\\\ x_i^\\mathrm{mis} \\end{pmatrix}|z_{ik}=1;\\theta^{[r-1]}\\right)=\\mathcal{N}\\left(\\begin{pmatrix} (\\mu_{ik}^\\mathrm{obs})^{[r-1]} \\\\ (\\mu_{ik}^\\mathrm{mis})^{[r-1]} \\end{pmatrix}, \\begin{pmatrix} (\\Sigma_{ik}^{\\mathrm{obs},\\mathrm{obs}})^{[r-1]} & (\\Sigma_{ik}^{\\mathrm{obs},\\mathrm{mis}})^{[r-1]} \\\\ (\\Sigma_{ik}^{\\mathrm{obs},\\mathrm{mis}})^{[r-1]} & (\\Sigma_{ik}^{\\mathrm{mis},\\mathrm{mis}})^{[r-1]} \\end{pmatrix}\\right),$$\n",
    "\n",
    "where \n",
    "\n",
    "* $(\\mu_{ik}^\\mathrm{obs})^{[r-1]}$ (resp. $(\\mu_{ik}^\\mathrm{mis})^{[r-1]}$) is the values of the vector $(\\mu_{ik})^{[r-1]}$ for the observed variables (resp. for the missing variables),\n",
    "\n",
    "* $(\\Sigma_{ik}^{\\mathrm{obs},\\mathrm{obs}})^{[r-1]}$ is sub-matrix of $\\Sigma_{ik}^{[r-1]}$ for the observed variables only.\n",
    "\n",
    "Therefore, we have: \n",
    "\n",
    "$$\\left( x_i^{\\mathrm{mis}} \\mid  x_i^{\\mathrm{obs}},z_{ik}=1;\\theta^{[r-1]} \\right) \\sim \\mathcal{N}\\left((\\tilde{\\mu}_{ik}^{\\mathrm{mis}})^{[r-1]},(\\tilde{\\Sigma}_{ik}^{\\mathrm{mis}})^{[r-1]}\\right)$$"
   ]
  },
  {
   "cell_type": "markdown",
   "id": "super-pathology",
   "metadata": {},
   "source": [
    "### Explicit $(\\tilde{\\mu}_{ik}^{\\mathrm{mis}})^{[r-1]}$ and $(\\tilde{\\Sigma}_{ik}^{\\mathrm{mis}})^{[r-1]}$."
   ]
  },
  {
   "cell_type": "markdown",
   "id": "composite-folks",
   "metadata": {},
   "source": [
    "**Hint 1:** use the classic formulae for the conditional expectation of Gaussian variables https://en.wikipedia.org/wiki/Multivariate_normal_distribution#Conditional_distributions.\n"
   ]
  },
  {
   "cell_type": "markdown",
   "id": "broke-atmosphere",
   "metadata": {},
   "source": [
    "**Answer**:"
   ]
  },
  {
   "cell_type": "markdown",
   "id": "intended-diagram",
   "metadata": {},
   "source": [
    "**Correction:** We have:\n",
    "$$(\\tilde{\\mu}_{ik}^{\\mathrm{mis}})^{[r-1]} = ({\\mu}_{ik}^{\\mathrm{mis}})^{[r-1]} + ({\\Sigma}_{ik}^{\\mathrm{mis},\\mathrm{obs}})^{[r-1]} \\left(({\\Sigma}_{ik}^{\\mathrm{obs},\\mathrm{obs}})^{[r-1]}\\right)^{-1} \\left(x_i^{\\mathrm{obs}} - ({\\mu}_{ik}^{\\mathrm{obs}})^{[r-1]} \\right)$$\n",
    "and \n",
    "$$(\\tilde{\\Sigma}_{ik}^{\\mathrm{mis}})^{[r-1]} = ({\\Sigma}_{ik}^{\\mathrm{mis},\\mathrm{mis}})^{[r-1]} - ({\\Sigma}_{ik}^{\\mathrm{mis},\\mathrm{obs}})^{[r-1]} \\left(({\\Sigma}_{ik}^{\\mathrm{obs},\\mathrm{obs}})^{[r-1]}\\right)^{-1} ({\\Sigma}_{ik}^{\\mathrm{obs},\\mathrm{mis}})^{[r-1]}.$$\n",
    "\n"
   ]
  },
  {
   "cell_type": "markdown",
   "id": "organized-mouse",
   "metadata": {},
   "source": [
    "The term $\\tau_x$ is written as follows:\n",
    "$$\\tau_x(\\mu_k,\\Sigma_k;x_i^\\mathrm{obs},\\theta^{[r-1]})=\\frac{1}{2}\\left[n\\log(2\\pi) + \\log((\\mid\\Sigma_k\\mid)) \\right]\n",
    "-\\frac{1}{2}\\mathbb{E}\\left[ (x_i - \\mu_k)^T(\\Sigma_k)^{-1}(x_i - \\mu_k)   \\mid x_i^{\\mathrm{obs}},z_{ik}=1;\\theta^{[r-1]}\\right].$$\n",
    "\n",
    "This last term could be expressed using the commutativity and linearity of the trace function:\n",
    "$$\\mathbb{E}\\left[ (x_i - \\mu_k)^T(\\Sigma_k)^{-1}(x_i - \\mu_k)   \\mid x_i^{\\mathrm{obs}},z_{ik}=1;\\theta^{[r-1]} \\right] \\\\\n",
    "= \\mbox{tr}(\\mathbb{E}\\left[ (x_i - \\mu_k)(x_i - \\mu_k)^T   \\mid x_i^{\\mathrm{obs}},z_{ik}=1,c_i;\\theta^{[r-1]} \\right](\\Sigma_k)^{-1}).$$\n",
    "\n",
    "Therefore, to compute $\\tau_x$, only $\\mathbb{E}\\left[ (x_i - \\mu_k)(x_i - \\mu_k)^T   \\mid x_i^{\\mathrm{obs}},z_{ik}=1;\\theta^{[r-1]} \\right]$ has to be calculated. \n",
    "\n"
   ]
  },
  {
   "cell_type": "markdown",
   "id": "fluid-volunteer",
   "metadata": {},
   "source": [
    "### Compute $\\tau_x$."
   ]
  },
  {
   "cell_type": "markdown",
   "id": "younger-hopkins",
   "metadata": {},
   "source": [
    "**Hint 2** : up to a reorganization of the variables, we have\n",
    "$$(x_i - \\mu_k)(x_i - \\mu_k)^T =  \\begin{pmatrix}\n",
    "(x_i^{\\mathrm{obs}} - \\mu_{ik}^{\\mathrm{obs}})^T(x_i^{\\mathrm{obs}} - \\mu_{ik}^{\\mathrm{obs}}) &(x_i^{\\mathrm{obs}} - \\mu_{ik}^{\\mathrm{obs}})^T(x_i^{\\mathrm{mis}} - \\mu_{ik}^{\\mathrm{mis}})\\\\\n",
    "(x_i^{\\mathrm{mis}} - \\mu_{ik}^{\\mathrm{mis}})^T(x_i^{\\mathrm{obs}} - \\mu_{ik}^{\\mathrm{obs}}) &(x_i^{\\mathrm{mis}} - \\mu_{ik}^{\\mathrm{mis}})^T(x_i^{\\mathrm{mis}} - \\mu_{ik}^{\\mathrm{mis}})\n",
    "\\end{pmatrix}.$$\n",
    "You can compute the expected value for each block. "
   ]
  },
  {
   "cell_type": "markdown",
   "id": "toxic-innocent",
   "metadata": {},
   "source": [
    "**Answer**:"
   ]
  },
  {
   "cell_type": "markdown",
   "id": "constitutional-attempt",
   "metadata": {},
   "source": [
    "**Correction:** \n",
    " The expected value of each block for the current parameter value is\n",
    "$$\n",
    "\\mathbb{E}\\left[ (x_i^{\\mathrm{obs}} - \\mu_{ik}^{\\mathrm{obs}})^T(x_i^{\\mathrm{obs}} - \\mu_{ik}^{\\mathrm{obs}})  \\mid x_i^{\\mathrm{obs}},z_{ik}=1;\\theta^{[r-1]} \\right] = (x_i^{\\mathrm{obs}} - \\mu_{ik}^{\\mathrm{obs}})^T(x_i^{\\mathrm{obs}} - \\mu_{ik}^{\\mathrm{obs}})$$\n",
    "\n",
    "$$\\mathbb{E}\\left[ (x_i^{\\mathrm{obs}} - \\mu_{ik}^{\\mathrm{obs}})^T(x_i^{\\mathrm{mis}} - \\mu_{ik}^{\\mathrm{mis}})  \\mid x_i^{\\mathrm{obs}},z_{ik}=1;\\theta^{[r-1]}\\right] = (x_i^{\\mathrm{obs}} - \\mu_{ik}^{\\mathrm{obs}})^T((\\tilde{\\mu}_{ik}^{\\mathrm{mis}})^{[r-1]} - \\mu_{ik}^{\\mathrm{mis}})$$\n",
    "\n",
    "$$\\mathbb{E}\\left[ (x_i^{\\mathrm{mis}} - \\mu_{ik}^{\\mathrm{mis}})^T(x_i^{\\mathrm{mis}} - \\mu_{ik}^{\\mathrm{mis}})   \\mid x_i^{\\mathrm{obs}},z_{ik}=1;\\lambda^{[r-1]} \\right] =\n",
    "((\\tilde{\\mu}_{ik}^{\\mathrm{mis}} )^{[r-1]}- \\mu_{ik}^{\\mathrm{mis}})^T((\\tilde{\\mu}_{ik}^{\\mathrm{mis}})^{[r-1]} - \\mu_{ik}^{\\mathrm{mis}})+(\\tilde{\\Sigma}_{ik}^{\\mathrm{mis}})^{[r-1]}\n",
    "$$"
   ]
  },
  {
   "cell_type": "markdown",
   "id": "rural-moment",
   "metadata": {},
   "source": [
    "To conclude, the E-step consists of computing the following quantities:\n",
    "$(\\tilde{\\mu}_{ik}^{\\mathrm{mis}})^{[r-1]}$, $(\\tilde{\\Sigma}_{ik}^{\\mathrm{mis}})^{[r-1]}$ and $t_{ik}(\\theta^{[r-1]}$. \n"
   ]
  },
  {
   "cell_type": "markdown",
   "id": "ranging-strengthening",
   "metadata": {},
   "source": [
    "## M-step "
   ]
  },
  {
   "cell_type": "markdown",
   "id": "partial-principal",
   "metadata": {},
   "source": [
    "Let us denote $(\\tilde{x}_{ik})^{[r-1]} = (x_i^{\\mathrm{obs}},(\\tilde{\\mu}_{ik}^{\\mathrm{mis}})^{[r-1]})$ and \n",
    "$\\tilde{\\Sigma}_{ik}^{[r-1]} = \\left( \\begin{array}{cc}\n",
    "0_i^{\\mathrm{obs},\\mathrm{obs}} & 0_i^{\\mathrm{obs},\\mathrm{mis}}\\\\\n",
    "0_i^{\\mathrm{mis},\\mathrm{obs}} & (\\tilde{\\Sigma}_{ik}^{\\mathrm{mis}})^{[r-1]}\n",
    "\\end{array}\\right)$\n",
    "\n",
    "The maximization of $Q(\\theta;\\theta^{[r-1]})$ over $(\\pi,\\mu,\\Sigma)$ leads to, for $k=1,\\ldots,K$,\n",
    "$$\\pi_k^{[r]} = \\frac{1}{n} \\sum_{i=1}^n t_{ik}(\\theta^{[r-1]})$$\n",
    "$$\\mu_k^{[r]} = \\frac{\\sum_{i=1}^n t_{ik}(\\theta^{[r-1]}) (\\tilde{x}_{ik})^{[r-1]}}{\\sum_{i=1}^n t_{ik}(\\theta^{[r-1]})}$$\n",
    "$$\\Sigma_k^{[r]} = \\frac{\\sum_{i=1}^n \\left[t_{ik}(\\theta^{[r-1]}) \\left((\\tilde{x}_{ik})^{[r-1]} - \\mu_k^{[r]})((\\tilde{x}_{ik})^{[r-1]} - \\mu_k^{[r]})^T+\\tilde{\\Sigma}_{ik}^{[r-1]}\\right) \\right]}{\\sum_{i=1}^n t_{ik}(\\theta^{[r-1]})}$$"
   ]
  },
  {
   "cell_type": "markdown",
   "id": "smooth-triangle",
   "metadata": {},
   "source": [
    "## Code (~9pt)"
   ]
  },
  {
   "cell_type": "markdown",
   "id": "identical-percentage",
   "metadata": {},
   "source": [
    "We consider a bivariate Gaussian mixture ($d=2$) with 2 classes ($K=2$):\n",
    "$$X \\sim \\pi_1\\mathcal{N}(\\mu_1,\\Sigma_1)+\\pi_2\\mathcal{N}(\\mu_2,\\Sigma_2),$$\n",
    "with $\\mu_1=(0,0)$, $\\mu_2=(3,3)$, $\\pi_1=0.3,\\pi_2=0.7$ and $\\Sigma_1=I_{2\\times 2}$, $\\Sigma_2=I_{2\\times 2}$\n",
    "\n",
    "We then introduce MCAR values in $X$ (both variables are missing)."
   ]
  },
  {
   "cell_type": "code",
   "execution_count": 1,
   "id": "early-regard",
   "metadata": {},
   "outputs": [],
   "source": [
    "library(MASS)\n",
    "library(mvtnorm)"
   ]
  },
  {
   "cell_type": "code",
   "execution_count": 2,
   "id": "proof-writer",
   "metadata": {},
   "outputs": [],
   "source": [
    "SimuZ <- function(n,pik){\n",
    "  #######Arguments\n",
    "  ##n: number of observations\n",
    "  ##pik: vector of size K, proportion of the K classes\n",
    "  #######Values\n",
    "  ##Return a matrix of size (n,K)\n",
    "  \n",
    "  K <- length(pik)\n",
    "  Z <- matrix(0,nrow=n,ncol=length(pik))\n",
    "  obs_pos <- 1:n\n",
    "  for (k in 1:(K-1)){\n",
    "    obs_k <- sample(obs_pos,pik[k]*n)\n",
    "    Z[obs_k,k] <- 1\n",
    "    obs_pos <- setdiff(obs_pos,obs_k)\n",
    "  }\n",
    "  Z[obs_pos,K] <- 1\n",
    "  return(Z)\n",
    "}"
   ]
  },
  {
   "cell_type": "code",
   "execution_count": 3,
   "id": "prospective-father",
   "metadata": {},
   "outputs": [],
   "source": [
    "set.seed(2)\n",
    "\n",
    "n <- 100\n",
    "d <- 2\n",
    "\n",
    "mu.true <- list(rep(0,d),rep(3,d))\n",
    "sigma.true <- list(diag(1,d),diag(1,d)) \n",
    "\n",
    "K <- 2\n",
    "pik.true <-  c(0.3,0.7)\n",
    "\n",
    "## Generation of the true partition\n",
    "Z.true <- SimuZ(n=n,pik=pik.true)\n",
    "\n",
    "Partition_true <- apply(Z.true, 1, function(z) which(z==1))\n",
    "                        \n",
    "## Generation of the complete dataset\n",
    "X <- matrix(NA,nrow=n,ncol=d)\n",
    "for (k in 1:K){\n",
    "    obs_k <- which(Z.true[,k]==1)\n",
    "    X[obs_k, ] <- mvrnorm(n*pik.true[k] , mu.true[[k]] , sigma.true[[k]])\n",
    "}\n",
    "\n",
    "## Introduction of missing values in X\n",
    "prop.miss <- 0.4\n",
    "nb.miss <- floor(n*d*prop.miss)\n",
    "missing_idx.mcar <- sample(n*d, nb.miss, replace = FALSE)\n",
    "XNA <- X\n",
    "XNA[missing_idx.mcar] <- NA \n",
    "                     \n",
    "for (i in 1:n){ #to avoid that one row contains only NA\n",
    "    if (sum(is.na(XNA[i,]))==d){\n",
    "      num <- sample(1:d,1)\n",
    "      XNA[i,num] <- X[i,num]\n",
    "    }\n",
    "}"
   ]
  },
  {
   "cell_type": "code",
   "execution_count": 4,
   "id": "single-robin",
   "metadata": {},
   "outputs": [
    {
     "data": {
      "text/html": [
       "<table>\n",
       "<caption>A matrix: 6 × 2 of type dbl</caption>\n",
       "<tbody>\n",
       "\t<tr><td> 4.5994441</td><td>        NA</td></tr>\n",
       "\t<tr><td> 2.5131302</td><td> 4.9682624</td></tr>\n",
       "\t<tr><td>-0.2427924</td><td> 0.8234145</td></tr>\n",
       "\t<tr><td>        NA</td><td> 3.0975859</td></tr>\n",
       "\t<tr><td> 3.1487466</td><td> 1.7245412</td></tr>\n",
       "\t<tr><td> 0.1171338</td><td>-0.3877827</td></tr>\n",
       "</tbody>\n",
       "</table>\n"
      ],
      "text/latex": [
       "A matrix: 6 × 2 of type dbl\n",
       "\\begin{tabular}{ll}\n",
       "\t  4.5994441 &         NA\\\\\n",
       "\t  2.5131302 &  4.9682624\\\\\n",
       "\t -0.2427924 &  0.8234145\\\\\n",
       "\t         NA &  3.0975859\\\\\n",
       "\t  3.1487466 &  1.7245412\\\\\n",
       "\t  0.1171338 & -0.3877827\\\\\n",
       "\\end{tabular}\n"
      ],
      "text/markdown": [
       "\n",
       "A matrix: 6 × 2 of type dbl\n",
       "\n",
       "|  4.5994441 |         NA |\n",
       "|  2.5131302 |  4.9682624 |\n",
       "| -0.2427924 |  0.8234145 |\n",
       "|         NA |  3.0975859 |\n",
       "|  3.1487466 |  1.7245412 |\n",
       "|  0.1171338 | -0.3877827 |\n",
       "\n"
      ],
      "text/plain": [
       "     [,1]       [,2]      \n",
       "[1,]  4.5994441         NA\n",
       "[2,]  2.5131302  4.9682624\n",
       "[3,] -0.2427924  0.8234145\n",
       "[4,]         NA  3.0975859\n",
       "[5,]  3.1487466  1.7245412\n",
       "[6,]  0.1171338 -0.3877827"
      ]
     },
     "metadata": {},
     "output_type": "display_data"
    }
   ],
   "source": [
    "head(XNA)"
   ]
  },
  {
   "cell_type": "code",
   "execution_count": 5,
   "id": "dense-madagascar",
   "metadata": {},
   "outputs": [
    {
     "data": {
      "text/html": [
       "0.315"
      ],
      "text/latex": [
       "0.315"
      ],
      "text/markdown": [
       "0.315"
      ],
      "text/plain": [
       "[1] 0.315"
      ]
     },
     "metadata": {},
     "output_type": "display_data"
    }
   ],
   "source": [
    "sum(is.na(XNA))/(n*d)"
   ]
  },
  {
   "cell_type": "markdown",
   "id": "august-cholesterol",
   "metadata": {},
   "source": [
    "### Propose a naive initialization step for the parameters $\\pi^{[0]}$, $\\mu^{[0]}$ and $\\Sigma^{[0]}$ using the function init_Z.\n",
    "\n",
    "Note that for the sequel, $\\pi^{[0]}$ is a vector of $k$ elements, $\\mu^{[0]}$ should be a list of length $k$ containing vectors of length $d$ and $\\Sigma^{[0]}$ should be a list of length $k$ containing matrices of dimension $d \\times d$."
   ]
  },
  {
   "cell_type": "code",
   "execution_count": 6,
   "id": "sixth-tissue",
   "metadata": {},
   "outputs": [],
   "source": [
    "init_Z <- function(K,n){\n",
    "    ##This function returns a random partition Z (matrix of size n,K with the rows equal to 1).\n",
    "    Z.init <- t(sapply(sample(1:K, n, replace = T) , function(i) {\n",
    "      res <- rep(0, K)\n",
    "      res[i] <- 1\n",
    "      return(res)\n",
    "    }))\n",
    "    return(Z.init)\n",
    "}"
   ]
  },
  {
   "cell_type": "code",
   "execution_count": 7,
   "id": "alternative-adventure",
   "metadata": {},
   "outputs": [
    {
     "data": {
      "text/html": [
       "<table>\n",
       "<caption>A matrix: 4 × 3 of type dbl</caption>\n",
       "<tbody>\n",
       "\t<tr><td>0</td><td>1</td><td>0</td></tr>\n",
       "\t<tr><td>0</td><td>0</td><td>1</td></tr>\n",
       "\t<tr><td>1</td><td>0</td><td>0</td></tr>\n",
       "\t<tr><td>0</td><td>1</td><td>0</td></tr>\n",
       "</tbody>\n",
       "</table>\n"
      ],
      "text/latex": [
       "A matrix: 4 × 3 of type dbl\n",
       "\\begin{tabular}{lll}\n",
       "\t 0 & 1 & 0\\\\\n",
       "\t 0 & 0 & 1\\\\\n",
       "\t 1 & 0 & 0\\\\\n",
       "\t 0 & 1 & 0\\\\\n",
       "\\end{tabular}\n"
      ],
      "text/markdown": [
       "\n",
       "A matrix: 4 × 3 of type dbl\n",
       "\n",
       "| 0 | 1 | 0 |\n",
       "| 0 | 0 | 1 |\n",
       "| 1 | 0 | 0 |\n",
       "| 0 | 1 | 0 |\n",
       "\n"
      ],
      "text/plain": [
       "     [,1] [,2] [,3]\n",
       "[1,] 0    1    0   \n",
       "[2,] 0    0    1   \n",
       "[3,] 1    0    0   \n",
       "[4,] 0    1    0   "
      ]
     },
     "metadata": {},
     "output_type": "display_data"
    }
   ],
   "source": [
    "init_Z(3,4)"
   ]
  },
  {
   "cell_type": "code",
   "execution_count": null,
   "id": "fewer-imaging",
   "metadata": {},
   "outputs": [],
   "source": [
    "## Answer (code):\n",
    "Z.init <- init_Z(K,n)\n",
    "Obs_classk <- lapply(1:K, function(z){return(which(Z.init[,z]==1))})\n",
    "pi.init <- ############\n",
    "mu.init <- ############\n",
    "sigma.init <- ############"
   ]
  },
  {
   "cell_type": "code",
   "execution_count": 8,
   "id": "strategic-testament",
   "metadata": {},
   "outputs": [],
   "source": [
    "## Correction: \n",
    "Z.init <- init_Z(K,n)\n",
    "Obs_classk <- lapply(1:K, function(z){return(which(Z.init[,z]==1))})\n",
    "pi.init <- colSums(Z.init)/n \n",
    "mu.init <- lapply(1:K, function(z){return(colMeans(XNA[Obs_classk[[z]],],na.rm=T))})\n",
    "sigma.init <- lapply(1:K, function(z){return(diag(apply(XNA[Obs_classk[[z]],],2,var,na.rm=T)))})"
   ]
  },
  {
   "cell_type": "markdown",
   "id": "strong-benchmark",
   "metadata": {},
   "source": [
    "### Compute the missing-data pattern $M$ which indicates where are the missing values in $X$. "
   ]
  },
  {
   "cell_type": "code",
   "execution_count": null,
   "id": "thorough-logic",
   "metadata": {},
   "outputs": [],
   "source": [
    "## Answer (code):"
   ]
  },
  {
   "cell_type": "code",
   "execution_count": 9,
   "id": "short-traveler",
   "metadata": {},
   "outputs": [
    {
     "data": {
      "text/html": [
       "<table>\n",
       "<caption>A matrix: 6 × 2 of type lgl</caption>\n",
       "<tbody>\n",
       "\t<tr><td>FALSE</td><td> TRUE</td></tr>\n",
       "\t<tr><td>FALSE</td><td>FALSE</td></tr>\n",
       "\t<tr><td>FALSE</td><td>FALSE</td></tr>\n",
       "\t<tr><td> TRUE</td><td>FALSE</td></tr>\n",
       "\t<tr><td>FALSE</td><td>FALSE</td></tr>\n",
       "\t<tr><td>FALSE</td><td>FALSE</td></tr>\n",
       "</tbody>\n",
       "</table>\n"
      ],
      "text/latex": [
       "A matrix: 6 × 2 of type lgl\n",
       "\\begin{tabular}{ll}\n",
       "\t FALSE &  TRUE\\\\\n",
       "\t FALSE & FALSE\\\\\n",
       "\t FALSE & FALSE\\\\\n",
       "\t  TRUE & FALSE\\\\\n",
       "\t FALSE & FALSE\\\\\n",
       "\t FALSE & FALSE\\\\\n",
       "\\end{tabular}\n"
      ],
      "text/markdown": [
       "\n",
       "A matrix: 6 × 2 of type lgl\n",
       "\n",
       "| FALSE |  TRUE |\n",
       "| FALSE | FALSE |\n",
       "| FALSE | FALSE |\n",
       "|  TRUE | FALSE |\n",
       "| FALSE | FALSE |\n",
       "| FALSE | FALSE |\n",
       "\n"
      ],
      "text/plain": [
       "     [,1]  [,2] \n",
       "[1,] FALSE  TRUE\n",
       "[2,] FALSE FALSE\n",
       "[3,] FALSE FALSE\n",
       "[4,]  TRUE FALSE\n",
       "[5,] FALSE FALSE\n",
       "[6,] FALSE FALSE"
      ]
     },
     "metadata": {},
     "output_type": "display_data"
    }
   ],
   "source": [
    "## Correction: \n",
    "M <- is.na(XNA)\n",
    "head(M)"
   ]
  },
  {
   "cell_type": "markdown",
   "id": "quarterly-currency",
   "metadata": {},
   "source": [
    "### Code the function which returns the observed log-likelihood and $t_{ik}$."
   ]
  },
  {
   "cell_type": "markdown",
   "id": "regulated-housing",
   "metadata": {},
   "source": [
    "Recall that the observed log-likelihood is written as \n",
    "$$\\ell(\\theta;X^\\mathrm{obs})=\\sum_{i=1}^n \\log(f(x_i^{\\mathrm{obs}};\\theta))=\\sum_{i=1}^n \\log\\left(\\sum_{k=1}^K f_k(x_i^{\\mathrm{obs}};\\mu_k,\\Sigma_k)\\pi_k\\right)$$\n",
    "\n",
    "Use the following function **logsumexp** to write the function **Loglikehood_obs_Gaussian** which returns the observed log-likelihood and $t_{ik}, \\forall i, \\forall k$."
   ]
  },
  {
   "cell_type": "markdown",
   "id": "therapeutic-floating",
   "metadata": {},
   "source": [
    "**Hint 1:** you can use https://github.com/cbouveyron/MBSL-Course2021/blob/main/GMM_1d_notebook.ipynb"
   ]
  },
  {
   "cell_type": "code",
   "execution_count": 10,
   "id": "olive-authority",
   "metadata": {},
   "outputs": [],
   "source": [
    "logsumexp <- function (x) {\n",
    "    y = max(x)\n",
    "    y + log(sum(exp(x - y)))\n",
    "}"
   ]
  },
  {
   "cell_type": "code",
   "execution_count": null,
   "id": "accredited-article",
   "metadata": {},
   "outputs": [],
   "source": [
    "## Answer (code):\n",
    "\n",
    "# Arguments:\n",
    "## XNA: matrix containing missing values (data matrix of size n,d)\n",
    "## mu: current value of the means (list of length K, with vectors of size d)\n",
    "## sigma: current value of the covariance matrices (list of length K, with matrices of size d,d)\n",
    "## prop.pi: current proportion per class (vector of length K)\n",
    "\n",
    "Loglikelihood_obs_Gaussian <- function(XNA,mu,sigma,prop.pi){\n",
    "\n",
    "    n <- ############\n",
    "    d <- ############\n",
    "    M <- ############\n",
    "    K <- ############\n",
    "\n",
    "\n",
    "    log_tik_numerator <- matrix(0, n, K) #log_tik_numerator[i,k] = log(f(zik=1,y_i^obs))\n",
    "\n",
    "    Pattern <- matrix(M[!duplicated(M),],nrow=sum(!duplicated(M)))\n",
    "\n",
    "    for (i in 1:nrow(Pattern)){\n",
    "        wherePat <- which(sapply(1:nrow(M),function(x) prod(M[x,]==Pattern[i,])==1))\n",
    "        X_Pat <- rbind(XNA[wherePat,])\n",
    "        M_Pat <- rbind(M[wherePat,])\n",
    "\n",
    "        var_obs <- which(Pattern[i,]==0)\n",
    "        X_obs <- as.matrix(X_Pat[,var_obs])\n",
    "        mu_obs <- lapply(mu, function(x) x[var_obs])\n",
    "        sigma_obs <- lapply(sigma , function(x) matrix(x[var_obs,var_obs],ncol=length(var_obs),nrow=length(var_obs)))\n",
    "\n",
    "        for (k in 1:K){\n",
    "            log_tik_numerator[wherePat,k] = ############ \n",
    "        }\n",
    "    }\n",
    "\n",
    "    log_tik = ############ \n",
    "    tik = ############ \n",
    "    loglik_obs = ############ \n",
    "\n",
    "\n",
    "\n",
    "    return(list(loglik_obs=loglik_obs,tik=tik))\n",
    "\n",
    "}\n",
    "\n"
   ]
  },
  {
   "cell_type": "code",
   "execution_count": 11,
   "id": "compact-contemporary",
   "metadata": {},
   "outputs": [],
   "source": [
    "## Correction: \n",
    "\n",
    "\n",
    "Loglikelihood_obs_Gaussian <- function(XNA,mu,sigma,prop.pi){\n",
    "\n",
    "    n <- dim(XNA)[1]\n",
    "    d <- dim(XNA)[2]\n",
    "    M <- is.na(XNA)\n",
    "    K <- length(prop.pi)\n",
    "\n",
    "    log_tik_numerator <- matrix(0, n, K) #logprobcond[i,k] = log(f(zik=1,y_i^obs))\n",
    "\n",
    "    Pattern <- matrix(M[!duplicated(M),],nrow=sum(!duplicated(M)))\n",
    "\n",
    "    for (i in 1:nrow(Pattern)){\n",
    "        wherePat <- which(sapply(1:nrow(M),function(x) prod(M[x,]==Pattern[i,])==1))\n",
    "        X_Pat <- rbind(XNA[wherePat,])\n",
    "        M_Pat <- rbind(M[wherePat,])\n",
    "\n",
    "        var_obs <- which(Pattern[i,]==0)\n",
    "        X_obs <- as.matrix(X_Pat[,var_obs])\n",
    "        mu_obs <- lapply(mu, function(x) x[var_obs])\n",
    "        sigma_obs <- lapply(sigma , function(x) matrix(x[var_obs,var_obs],ncol=length(var_obs),nrow=length(var_obs)))\n",
    "\n",
    "        for (k in 1:K){\n",
    "            log_tik_numerator[wherePat,k] = log(prop.pi[k]) + dmvnorm(X_obs,mean=mu_obs[[k]],sigma=sigma_obs[[k]],log=TRUE)\n",
    "        }\n",
    "    }\n",
    "\n",
    "\n",
    "    log_tik = log_tik_numerator - apply(log_tik_numerator , 1, logsumexp)\n",
    "    tik = exp(log_tik)\n",
    "    loglik_obs = sum(apply(log_tik_numerator , 1, logsumexp))\n",
    "\n",
    "    return(list(loglik_obs=loglik_obs,tik=tik))\n",
    "\n",
    "}"
   ]
  },
  {
   "cell_type": "markdown",
   "id": "subsequent-friday",
   "metadata": {},
   "source": [
    "### In the function **Loglikelihood_obs_Gaussian**, explain what is the object called Pattern."
   ]
  },
  {
   "cell_type": "markdown",
   "id": "portuguese-sigma",
   "metadata": {},
   "source": [
    "**Answer**:"
   ]
  },
  {
   "cell_type": "markdown",
   "id": "ambient-sunday",
   "metadata": {},
   "source": [
    "### Code the first iteration of both E-step and M-step."
   ]
  },
  {
   "cell_type": "markdown",
   "id": "bound-extraction",
   "metadata": {},
   "source": [
    "In the case where the covariance matrix are diagonal, note that the M-step can be written as follows:\n",
    "\n",
    "$\\forall k \\in \\{1,\\dots,K\\}$:\n",
    "\n",
    "\n",
    "\n",
    "* $\\pi_k^{[r]} = \\frac{1}{n} \\sum_{i=1}^n t_{ik}(\\theta^{[r-1]})$.\n",
    "\n",
    "\n",
    "\n",
    "* $\\forall i \\in \\{1,\\dots,n\\}, \\quad \\tilde{x}^{[r-1]}_{ik}=(\\tilde{x}^{[r-1]}_{ik1},\\dots,\\tilde{x}^{[r-1]}_{ikd})\\in \\mathbb{R}^d$ such that $\\forall j \\in \\{1,\\dots,d\\}$:\n",
    "$$\\tilde{x}^{[r-1]}_{ikj}=X_{ij} \\mbox{ if $M_{ij}=0$ (observed) and } \\tilde{x}^{[r-1]}_{ikj}=\\mu_{kj}^{[r-1]} \\mbox{ if $M_{ij}=1$ (missing)}.$$\n",
    "\n",
    "\n",
    "\n",
    "* $\\mu_{k}^{[r]}=(\\mu_{k1}^{[r]},\\dots,\\mu_{kd}^{[r]})\\in \\mathbb{R}^d$ such that\n",
    "\n",
    "$$\\forall j \\in \\{1,\\dots,d\\}, \\quad \\mu_{kj}^{[r]}=\\frac{\\sum_{i=1}^n \\tilde{x}^{[r-1]}_{ikj}t_{ik}(\\theta^{[r-1]})}{\\sum_{i=1}^n t_{ik}(\\theta^{[r-1]})}$$\n",
    "\n",
    "\n",
    "\n",
    "* $\\forall i \\in \\{1,\\dots,n\\}, \\quad \\tilde{\\Sigma}_{ik}^{[r-1]}=(\\tilde{\\Sigma}_{ikjj'}^{[r-1]})_{j\\in\\{1,\\dots,d\\},j'\\in \\{1,\\dots,d\\}} \\in \\mathbb{R}^{d\\times d}$ such that:\n",
    "$$\\forall j\\neq j' \\in \\{1,\\dots,d\\}, \\quad \\tilde{\\Sigma}_{ikjj'}^{[r-1]}=0$$\n",
    "and\n",
    "$$\\forall j \\in \\{1,\\dots,d\\}, \\quad \\tilde{\\Sigma}^{[r-1]}_{ikjj}=0 \\mbox{ if $M_{ij}=0$ (observed) and } \\tilde{\\Sigma}^{[r-1]}_{ikjj}=\\Sigma_{ikjj}^{[r-1]} \\mbox{ if $M_{ij}=1$ (missing)}.$$\n",
    "\n",
    "\n",
    "\n",
    "* $\\Sigma_{k}^{[r]}=(\\Sigma_{kjj'}^{[r]})_{j\\in\\{1,\\dots,d\\},j'\\in \\{1,\\dots,d\\}}\\in \\mathbb{R}^{d\\times d}$ such that:\n",
    "$$\\forall j\\neq j' \\in \\{1,\\dots,d\\}, \\quad \\Sigma_{kjj'}^{[r]}=0$$\n",
    "and\n",
    "$$\\forall j \\in \\{1,\\dots,d\\}, \\quad \\Sigma_{kjj'}^{[r]}=\\frac{\\sum_{i=1}^n (( \\tilde{x}_{ikj}-\\mu_{kj}^{[r]})( \\tilde{x}_{ikj}-\\mu_{kj}^{[r]}) + \\tilde{\\Sigma}_{ikjj}^{[r-1]}) t_{ik}(\\theta^{[r-1]})}{\\sum_{i=1}^n t_{ik}(\\theta^{[r-1]})}$$\n",
    "\n"
   ]
  },
  {
   "cell_type": "code",
   "execution_count": null,
   "id": "sonic-premium",
   "metadata": {},
   "outputs": [],
   "source": [
    "## Answer (code):\n",
    "\n",
    "### E-step\n",
    "\n",
    "loglik_res <- Loglikelihood_obs_Gaussian(XNA,mu.init,sigma.init,pi.init)\n",
    "tik <- loglik_res$tik\n",
    "\n",
    "### M-step\n",
    "\n",
    "M <- is.na(XNA)\n",
    "\n",
    "pi.new <- ############ \n",
    "\n",
    "mu.new <- NULL\n",
    "sigma.new <- NULL\n",
    "\n",
    "for (k in 1:K){\n",
    "  mu.new[[k]] <- numeric(d)\n",
    "  sigma.new[[k]] <- matrix(0,nrow=d,ncol=d)\n",
    "  for (j in 1:d){\n",
    "    xtilde <- XNA[,j]\n",
    "    xtilde[which(M[,j]==1)] <- ############ \n",
    "      \n",
    "    mu.new[[k]][j] <- ############ \n",
    "\n",
    "    sigma.tilde <- numeric(n)\n",
    "    sigma.tilde[which(M[,j]==1)] <- ############ \n",
    "    sigma.new[[k]][j,j] <- sum(( (xtilde - mu.new[[k]][[j]]) * (xtilde - mu.new[[k]][[j]]) + sigma.tilde) * tik[,k]) / sum(tik[,k])\n",
    "  }\n",
    "}\n",
    "\n"
   ]
  },
  {
   "cell_type": "code",
   "execution_count": 13,
   "id": "saving-consultancy",
   "metadata": {},
   "outputs": [],
   "source": [
    "## Correction:\n",
    "\n",
    "### E-step\n",
    "\n",
    "loglik_res <- Loglikelihood_obs_Gaussian(XNA,mu.init,sigma.init,pi.init)\n",
    "tik <- loglik_res$tik\n",
    "\n",
    "### M-step\n",
    "\n",
    "M <- is.na(XNA)\n",
    "\n",
    "pi.new <- colSums(tik) / n\n",
    "\n",
    "mu.new <- NULL\n",
    "sigma.new <- NULL\n",
    "\n",
    "for (k in 1:K){\n",
    "  mu.new[[k]] <- numeric(d)\n",
    "  sigma.new[[k]] <- matrix(0,nrow=d,ncol=d)\n",
    "  for (j in 1:d){\n",
    "    xtilde <- XNA[,j]\n",
    "    xtilde[which(M[,j]==1)] <- mu.init[[k]][j]\n",
    "      \n",
    "    mu.new[[k]][j] <- sum(xtilde * tik[,k]) / sum(tik[,k])\n",
    "\n",
    "    sigma.tilde <- numeric(n)\n",
    "    sigma.tilde[which(M[,j]==1)] <- sigma.init[[k]][j,j]\n",
    "    sigma.new[[k]][j,j] <- sum(( (xtilde - mu.new[[k]][[j]]) * (xtilde - mu.new[[k]][[j]]) + sigma.tilde) * tik[,k]) / sum(tik[,k])\n",
    "  }\n",
    "}\n",
    "\n"
   ]
  },
  {
   "cell_type": "markdown",
   "id": "progressive-hybrid",
   "metadata": {},
   "source": [
    "### Apply the EM algorithm for 50 iterations and plot the observed log-likelihood."
   ]
  },
  {
   "cell_type": "code",
   "execution_count": null,
   "id": "impressive-resort",
   "metadata": {},
   "outputs": [],
   "source": [
    "## Answer (code):\n",
    "\n"
   ]
  },
  {
   "cell_type": "code",
   "execution_count": 14,
   "id": "expensive-railway",
   "metadata": {},
   "outputs": [],
   "source": [
    "## Correction:\n",
    "\n",
    "log_obs <- c()\n",
    "\n",
    "mu.new <- mu.init\n",
    "sigma.new <- sigma.init\n",
    "pi.new <- pi.init\n",
    "\n",
    "for (it in 1:50){\n",
    "    \n",
    "    pi.old <- pi.new\n",
    "    mu.old <- mu.new\n",
    "    sigma.old <- sigma.new\n",
    "    \n",
    "    ### E-step\n",
    "\n",
    "    loglik_res <- Loglikelihood_obs_Gaussian(XNA,mu.old,sigma.old,pi.old)\n",
    "    tik <- loglik_res$tik\n",
    "    log_obs <- c(log_obs,loglik_res$loglik_obs)\n",
    "\n",
    "    ### M-step\n",
    "\n",
    "    M <- is.na(XNA)\n",
    "    \n",
    "    pi.new <- colSums(tik) / n\n",
    "    \n",
    "    mu.new <- NULL\n",
    "    sigma.new <- NULL\n",
    "\n",
    "    for (k in 1:K){\n",
    "      mu.new[[k]] <- numeric(d)\n",
    "      sigma.new[[k]] <- matrix(0,nrow=d,ncol=d)\n",
    "      for (j in 1:d){\n",
    "        xtilde <- XNA[,j]\n",
    "        xtilde[which(M[,j]==1)] <- mu.old[[k]][j]\n",
    "\n",
    "        mu.new[[k]][j] <- sum(xtilde * tik[,k]) / sum(tik[,k])\n",
    "\n",
    "        sigma.tilde <- numeric(n)\n",
    "        sigma.tilde[which(M[,j]==1)] <- sigma.old[[k]][j,j]\n",
    "        sigma.new[[k]][j,j] <- sum(( (xtilde - mu.new[[k]][[j]]) * (xtilde - mu.new[[k]][[j]]) + sigma.tilde) * tik[,k]) / sum(tik[,k])\n",
    "      }\n",
    "    }\n",
    "\n",
    "    \n",
    "}"
   ]
  },
  {
   "cell_type": "code",
   "execution_count": 15,
   "id": "proud-labor",
   "metadata": {},
   "outputs": [
    {
     "data": {
      "image/png": "[encoded data removed]",
      "text/plain": [
       "plot without title"
      ]
     },
     "metadata": {
      "image/png": {
       "height": 420,
       "width": 420
      }
     },
     "output_type": "display_data"
    }
   ],
   "source": [
    "plot(log_obs)"
   ]
  },
  {
   "cell_type": "markdown",
   "id": "detailed-drinking",
   "metadata": {},
   "source": [
    "## Additional questions (~3pt)"
   ]
  },
  {
   "cell_type": "markdown",
   "id": "recovered-latest",
   "metadata": {},
   "source": [
    "### Describe a procedure to select the number of classes."
   ]
  },
  {
   "cell_type": "markdown",
   "id": "lesser-mongolia",
   "metadata": {},
   "source": [
    "**Answer**:"
   ]
  },
  {
   "cell_type": "markdown",
   "id": "precise-scanner",
   "metadata": {},
   "source": [
    "### Write the complete log-likelihood if the mechanism is MNAR. "
   ]
  },
  {
   "cell_type": "markdown",
   "id": "ordinary-genetics",
   "metadata": {},
   "source": [
    "**Answer**:"
   ]
  }
 ],
 "metadata": {
  "kernelspec": {
   "display_name": "R",
   "language": "R",
   "name": "ir"
  },
  "language_info": {
   "codemirror_mode": "r",
   "file_extension": ".r",
   "mimetype": "text/x-r-source",
   "name": "R",
   "pygments_lexer": "r",
   "version": "3.6.1"
  },
  "toc": {
   "base_numbering": 1,
   "nav_menu": {},
   "number_sections": true,
   "sideBar": true,
   "skip_h1_title": false,
   "title_cell": "Table of Contents",
   "title_sidebar": "Contents",
   "toc_cell": false,
   "toc_position": {},
   "toc_section_display": true,
   "toc_window_display": true
  }
 },
 "nbformat": 4,
 "nbformat_minor": 5
}
